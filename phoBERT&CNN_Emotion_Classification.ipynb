{
  "nbformat": 4,
  "nbformat_minor": 0,
  "metadata": {
    "colab": {
      "provenance": [],
      "gpuType": "T4",
      "mount_file_id": "1dg4K-6Jxpl8UGXDB3zWw4wgBf9FHTYmM",
      "authorship_tag": "ABX9TyOGWjUtWT45DZUsRscN0AL6",
      "include_colab_link": true
    },
    "kernelspec": {
      "name": "python3",
      "display_name": "Python 3"
    },
    "language_info": {
      "name": "python"
    },
    "accelerator": "GPU"
  },
  "cells": [
    {
      "cell_type": "markdown",
      "metadata": {
        "id": "view-in-github",
        "colab_type": "text"
      },
      "source": [
        "<a href=\"https://colab.research.google.com/github/AnDDoanf/phoBERT_projects/blob/master/phoBERT%26CNN_Emotion_Classification.ipynb\" target=\"_parent\"><img src=\"https://colab.research.google.com/assets/colab-badge.svg\" alt=\"Open In Colab\"/></a>"
      ]
    },
    {
      "cell_type": "code",
      "execution_count": null,
      "metadata": {
        "colab": {
          "base_uri": "https://localhost:8080/"
        },
        "id": "PgQHAggmanIA",
        "outputId": "66a1e803-10a1-404a-9eb1-813182515a5b"
      },
      "outputs": [
        {
          "output_type": "stream",
          "name": "stdout",
          "text": [
            "/content/drive/MyDrive/Kaggle\n"
          ]
        }
      ],
      "source": [
        "import os\n",
        "os.environ[\"KAGGLE_CONFIG_DIR\"] = \"/content/drive/MyDrive/Kaggle\"\n",
        "%cd /content/drive/MyDrive/Kaggle"
      ]
    },
    {
      "cell_type": "code",
      "source": [
        "# !kaggle datasets download -d duchuy3008/datacomments\n",
        "# !unzip *.zip -d data-comments\n",
        "# !rm *.zip"
      ],
      "metadata": {
        "id": "tZc7R5pDatx6"
      },
      "execution_count": null,
      "outputs": []
    },
    {
      "cell_type": "code",
      "source": [
        "!pip install optuna"
      ],
      "metadata": {
        "colab": {
          "base_uri": "https://localhost:8080/"
        },
        "id": "VBmvkW9Abv9k",
        "outputId": "d12ad84b-76ad-4bb7-ad1f-69e3c19482b5"
      },
      "execution_count": null,
      "outputs": [
        {
          "output_type": "stream",
          "name": "stdout",
          "text": [
            "Requirement already satisfied: optuna in /usr/local/lib/python3.10/dist-packages (3.4.0)\n",
            "Requirement already satisfied: alembic>=1.5.0 in /usr/local/lib/python3.10/dist-packages (from optuna) (1.12.1)\n",
            "Requirement already satisfied: colorlog in /usr/local/lib/python3.10/dist-packages (from optuna) (6.7.0)\n",
            "Requirement already satisfied: numpy in /usr/local/lib/python3.10/dist-packages (from optuna) (1.23.5)\n",
            "Requirement already satisfied: packaging>=20.0 in /usr/local/lib/python3.10/dist-packages (from optuna) (23.2)\n",
            "Requirement already satisfied: sqlalchemy>=1.3.0 in /usr/local/lib/python3.10/dist-packages (from optuna) (2.0.23)\n",
            "Requirement already satisfied: tqdm in /usr/local/lib/python3.10/dist-packages (from optuna) (4.66.1)\n",
            "Requirement already satisfied: PyYAML in /usr/local/lib/python3.10/dist-packages (from optuna) (6.0.1)\n",
            "Requirement already satisfied: Mako in /usr/local/lib/python3.10/dist-packages (from alembic>=1.5.0->optuna) (1.3.0)\n",
            "Requirement already satisfied: typing-extensions>=4 in /usr/local/lib/python3.10/dist-packages (from alembic>=1.5.0->optuna) (4.5.0)\n",
            "Requirement already satisfied: greenlet!=0.4.17 in /usr/local/lib/python3.10/dist-packages (from sqlalchemy>=1.3.0->optuna) (3.0.1)\n",
            "Requirement already satisfied: MarkupSafe>=0.9.2 in /usr/local/lib/python3.10/dist-packages (from Mako->alembic>=1.5.0->optuna) (2.1.3)\n"
          ]
        }
      ]
    },
    {
      "cell_type": "code",
      "source": [
        "import torch\n",
        "import torch.nn as nn\n",
        "import torch.nn.functional as F\n",
        "from transformers import get_linear_schedule_with_warmup, AdamW\n",
        "from torch.utils.data import TensorDataset, random_split, DataLoader, RandomSampler, SequentialSampler\n",
        "import time, datetime, random, optuna, re, string\n",
        "import pandas as pd\n",
        "import numpy as np\n",
        "from sklearn.metrics import accuracy_score, f1_score, precision_score, recall_score\n",
        "import matplotlib.pyplot as plt\n",
        "import seaborn as sns\n",
        "import re\n",
        "from optuna.pruners import SuccessiveHalvingPruner\n",
        "from optuna.samplers import TPESampler\n",
        "from torch.cuda.amp import GradScaler\n",
        "from torch.cuda.amp import autocast\n",
        "from sklearn.model_selection import train_test_split\n",
        "from collections import Counter\n",
        "from transformers import BertModel, BertTokenizer, AutoModel, AutoTokenizer\n",
        "import torch\n",
        "from sklearn.preprocessing import LabelEncoder\n",
        "from sklearn.metrics import classification_report\n",
        "from string import ascii_lowercase\n",
        "import warnings\n",
        "warnings.filterwarnings('ignore')"
      ],
      "metadata": {
        "id": "lCmYy8zVbBkE"
      },
      "execution_count": null,
      "outputs": []
    },
    {
      "cell_type": "code",
      "source": [
        "SEED = 42\n",
        "random.seed(SEED)\n",
        "np.random.seed(SEED)\n",
        "torch.manual_seed(SEED)\n",
        "device = torch.device('cuda' if torch.cuda.is_available() else 'cpu')"
      ],
      "metadata": {
        "id": "lbb9exdzbqb7"
      },
      "execution_count": null,
      "outputs": []
    },
    {
      "cell_type": "code",
      "source": [
        "def clean(data):\n",
        "    data = data.lower()\n",
        "    with open('data-comments/teencode4.txt','r') as file:\n",
        "        file = file.read()\n",
        "        lines = file.split('\\n')\n",
        "        for line in lines:\n",
        "            elements = line.split('\\t')\n",
        "            data = re.sub(r'\\b{}+\\b'.format(elements[0]), elements[1], data)\n",
        "    alphabet = 'abcdefghijlmnopqrstuvwxyz'\n",
        "\n",
        "    for c in alphabet:\n",
        "        data = re.sub(r'{}+'.format(c), c, data)\n",
        "    data = re.sub(r'\\s+', ' ', data)\n",
        "\n",
        "    return data"
      ],
      "metadata": {
        "id": "tHz8sYVNb-rF"
      },
      "execution_count": null,
      "outputs": []
    },
    {
      "cell_type": "code",
      "source": [
        "class NewsGroupsDataset(torch.utils.data.Dataset):\n",
        "    def __init__(self, encodings, labels):\n",
        "        self.encodings = encodings\n",
        "        self.labels = labels\n",
        "\n",
        "    def __getitem__(self, idx):\n",
        "        item = {k: torch.tensor(v[idx]) for k, v in self.encodings.items()}\n",
        "        item[\"labels\"] = torch.tensor([self.labels[idx]])\n",
        "        return item\n",
        "\n",
        "    def __len__(self):\n",
        "        return len(self.labels)"
      ],
      "metadata": {
        "id": "LoqL0349db_0"
      },
      "execution_count": null,
      "outputs": []
    },
    {
      "cell_type": "code",
      "source": [
        "class CNN(nn.Module):\n",
        "    def __init__(self,num_classes):\n",
        "        super().__init__()\n",
        "        num_classes = num_classes  # number of targets to predict\n",
        "        output_channel = 36 # number of kernels\n",
        "        dropout = 0.4  # dropout value\n",
        "        embedding_dim = 768  # length of embedding dim\n",
        "\n",
        "        ks = 3  # three conv nets here\n",
        "\n",
        "        input_channel = 4\n",
        "\n",
        "        # 3 convolutional nets\n",
        "        self.conv1 = nn.Conv2d(input_channel,\n",
        "                               output_channel,\n",
        "                               (3, embedding_dim),\n",
        "                               padding=(2, 0),\n",
        "                               groups=input_channel)\n",
        "\n",
        "        self.conv2 = nn.Conv2d(input_channel,\n",
        "                               output_channel,\n",
        "                                (4, embedding_dim),\n",
        "                               padding=(3, 0),\n",
        "                               groups=input_channel)\n",
        "\n",
        "        self.conv3 = nn.Conv2d(input_channel,\n",
        "                               output_channel,\n",
        "                                (5, embedding_dim),\n",
        "                               padding=(4, 0),\n",
        "                               groups=input_channel)\n",
        "        #stride=(1, 1),\n",
        "        # apply dropout\n",
        "        self.dropout = nn.Dropout(dropout)\n",
        "\n",
        "        # fully connected layer for classification\n",
        "        # 3x conv nets * output channel\n",
        "        self.fc1 = nn.Linear(ks * output_channel, num_classes)\n",
        "\n",
        "    def forward(self, x, **kwargs):\n",
        "        # squeeze to get size; (batch, channel_output, ~=sent_len) * ks\n",
        "        x = [F.relu(self.conv1(x)).squeeze(3),\n",
        "             F.relu(self.conv2(x)).squeeze(3),\n",
        "             F.relu(self.conv3(x)).squeeze(3)]\n",
        "        # max-over-time pooling; # (batch, channel_output) * ks\n",
        "        x = [F.max_pool1d(i, i.size(2)).squeeze(2) for i in x]\n",
        "        # concat results; (batch, channel_output * ks)\n",
        "        x = torch.cat(x, 1)\n",
        "        # add dropout\n",
        "        x = self.dropout(x)\n",
        "        # generate logits (batch, target_size)\n",
        "        logit = self.fc1(x)\n",
        "        return logit"
      ],
      "metadata": {
        "id": "uax1F3TMdnyl"
      },
      "execution_count": null,
      "outputs": []
    },
    {
      "cell_type": "code",
      "source": [
        "df_train = pd.read_excel('data-comments/train.xlsx')\n",
        "df_test =  pd.read_excel('data-comments/test.xlsx')\n",
        "df_valid = pd.read_excel('data-comments/valid.xlsx')\n",
        "\n",
        "train_texts = df_train['Sentence'].apply(clean)\n",
        "test_texts = df_test['Sentence'].apply(clean)\n",
        "valid_texts = df_valid['Sentence'].apply(clean)\n",
        "\n",
        "y= LabelEncoder()\n",
        "\n",
        "train_labels = y.fit_transform(df_train['Emotion'])\n",
        "valid_labels = y.fit_transform(df_valid['Emotion'])\n",
        "test_labels = y.fit_transform(df_test['Emotion'])\n",
        "\n",
        "model_name = 'vinai/phobert-base'\n",
        "tokenizer = AutoTokenizer.from_pretrained(model_name)\n",
        "model = AutoModel.from_pretrained(model_name, output_hidden_states=True).cuda()\n",
        "\n",
        "max_length = 256\n",
        "train_encodings = tokenizer(list(train_texts),\n",
        "                            truncation=True,\n",
        "                            padding=True,\n",
        "                            max_length=max_length,\n",
        "                            return_tensors='pt' )\n",
        "\n",
        "valid_encodings = tokenizer(list(valid_texts),\n",
        "                            truncation=True,\n",
        "                            padding=True,\n",
        "                            max_length=max_length,\n",
        "                            return_tensors='pt')\n",
        "\n",
        "test_encodings = tokenizer(list(test_texts),\n",
        "                           truncation=True,\n",
        "                           padding=True,\n",
        "                           max_length=max_length,\n",
        "                           return_tensors='pt')\n",
        "\n",
        "# convert our tokenized data into a torch Dataset\n",
        "train_dataset = NewsGroupsDataset(train_encodings, train_labels)\n",
        "valid_dataset = NewsGroupsDataset(valid_encodings, valid_labels)\n",
        "test_dataset = NewsGroupsDataset(test_encodings, test_labels)\n",
        "\n",
        "train_dataloader = DataLoader(train_dataset,\n",
        "                              batch_size=8,\n",
        "                              shuffle=False)\n",
        "\n",
        "valid_dataloader = DataLoader(valid_dataset,\n",
        "                              batch_size=8,\n",
        "                              shuffle=False)\n",
        "\n",
        "test_dataloader = DataLoader(test_dataset,\n",
        "                              batch_size=8,\n",
        "                              shuffle=False)"
      ],
      "metadata": {
        "id": "Uw_YvA9tcFwX"
      },
      "execution_count": null,
      "outputs": []
    },
    {
      "cell_type": "code",
      "source": [
        "# instantiate CNN\n",
        "CNN_model = CNN(num_classes=7).cuda()\n",
        "\n",
        "# set loss\n",
        "criterion = nn.CrossEntropyLoss()\n",
        "\n",
        "# set number of epochs\n",
        "epochs = 5\n",
        "\n",
        "# optimizer = AdamW(model.parameters(), lr=5e-5)  #weight_decay\n",
        "optimizer = AdamW(model.parameters(), lr=5e-5, weight_decay=0.1)\n",
        "# optimizer = AdamW([{'params': BERT_parameters, 'lr': 2e-5}], weight_decay=1.0)\n",
        "\n",
        "# set LR scheduler\n",
        "total_steps = len(train_dataloader) * epochs\n",
        "scheduler = get_linear_schedule_with_warmup(optimizer,\n",
        "                                            num_warmup_steps=0,\n",
        "                                            num_training_steps=total_steps)\n",
        "\n",
        "# create gradient scaler for mixed precision\n",
        "scaler = GradScaler()"
      ],
      "metadata": {
        "id": "fT7HQ1kBeZ7l"
      },
      "execution_count": null,
      "outputs": []
    },
    {
      "cell_type": "code",
      "source": [
        "def train(model, dataloader, optimizer):\n",
        "    # reset total loss for epoch\n",
        "    train_total_loss = 0\n",
        "\n",
        "    # put both models into traning mode\n",
        "    model.train()\n",
        "    CNN_model.train()\n",
        "\n",
        "    # for each batch of training data...\n",
        "    for step, batch in enumerate(dataloader):\n",
        "        b_input_ids = batch['input_ids'].cuda()\n",
        "        b_input_mask = batch['attention_mask'].cuda()\n",
        "        b_labels = batch['labels'].cuda().long()\n",
        "        # clear previously calculated gradients\n",
        "        optimizer.zero_grad()\n",
        "\n",
        "        # runs the forward pass with autocasting.\n",
        "        with autocast():\n",
        "            outputs = model(input_ids=b_input_ids, attention_mask=b_input_mask)\n",
        "            hidden_layers = outputs['hidden_states']  # get hidden layers\n",
        "\n",
        "            hidden_layers = torch.stack(hidden_layers, dim=1)  # stack the layers\n",
        "\n",
        "            hidden_layers = hidden_layers[:, -4 :]\n",
        "            # hidden_layers = hidden_layers[:, :]\n",
        "\n",
        "        logits = CNN_model(hidden_layers)\n",
        "        loss = criterion(logits, b_labels.view(-1))\n",
        "\n",
        "        # sum the training loss over all batches for average loss at end\n",
        "        # loss is a tensor containing a single value\n",
        "        train_total_loss += loss.item()\n",
        "\n",
        "        # Scales loss. Calls backward() on scaled loss to create scaled gradients.\n",
        "        # Backward passes under autocast are not recommended.\n",
        "        # Backward ops run in the same dtype autocast chose for corresponding forward ops.\n",
        "        scaler.scale(loss).backward()\n",
        "\n",
        "        # scaler.step() first unscales the gradients of the optimizer's assigned params.\n",
        "        # If these gradients do not contain infs or NaNs, optimizer.step() is then called,\n",
        "        # otherwise, optimizer.step() is skipped.\n",
        "        scaler.step(optimizer)\n",
        "\n",
        "        # Updates the scale for next iteration.\n",
        "        scaler.update()\n",
        "\n",
        "        # Update the scheduler\n",
        "        scheduler.step()\n",
        "\n",
        "        # calculate preds\n",
        "        _, predicted = torch.max(logits, 1)\n",
        "\n",
        "        # move logits and labels to CPU\n",
        "        predicted = predicted.detach().cpu().numpy()\n",
        "        y_true = b_labels.detach().cpu().numpy().ravel()\n",
        "\n",
        "        # calculate f1\n",
        "\n",
        "\n",
        "    # calculate the average loss over all of the batches\n",
        "    avg_train_loss = train_total_loss / len(dataloader)\n",
        "\n",
        "\n",
        "    # Record all statistics from this epoch.\n",
        "    training_stats.append({\n",
        "            'Train Loss': avg_train_loss,\n",
        "    })\n",
        "    #torch.cuda.empty_cache()\n",
        "\n",
        "    return None\n",
        "\n",
        "def validating(model, dataloader):\n",
        "    # put both models in evaluation mode\n",
        "    model.eval()\n",
        "    CNN_model.eval()\n",
        "\n",
        "    total_valid_loss = 0\n",
        "    total_accuracy=0\n",
        "    # evaluate data for one epoch\n",
        "    for batch in dataloader:\n",
        "\n",
        "        b_input_ids = batch['input_ids'].cuda()\n",
        "        b_input_mask = batch['attention_mask'].cuda()\n",
        "        b_labels = batch['labels'].cuda().long()\n",
        "\n",
        "        # tell pytorch not to bother calculating gradients\n",
        "        with torch.no_grad():\n",
        "            # forward propagation (evaluate model on training batch)\n",
        "            outputs = model(input_ids=b_input_ids, attention_mask=b_input_mask)\n",
        "\n",
        "            hidden_layers = outputs['hidden_states']  # get hidden layers\n",
        "\n",
        "            hidden_layers = torch.stack(hidden_layers, dim=1)  # stack the layers\n",
        "#             hidden_layers = hidden_layers[:, :]\n",
        "            hidden_layers = hidden_layers[:, -4 :]\n",
        "\n",
        "        logits = CNN_model(hidden_layers)\n",
        "        loss = criterion(logits, b_labels.view(-1))\n",
        "\n",
        "        _, predicted = torch.max(logits, 1)\n",
        "      # move logits and labels to CPU\n",
        "        predicted = predicted.detach().cpu().numpy()\n",
        "        y_true = b_labels.detach().cpu().numpy().ravel()\n",
        "\n",
        "        # accumulate validation loss\n",
        "        total_valid_loss += loss.item()\n",
        "        total_accuracy += accuracy_score(predicted, y_true)\n",
        "\n",
        "    avg_val_loss = total_valid_loss / len(dataloader)\n",
        "    avg_accuracy = total_accuracy / len(dataloader)\n",
        "    # Record all statistics from this epoch.\n",
        "    valid_stats.append({\n",
        "      'Val Loss': avg_val_loss,\n",
        "      'Accuracy': avg_accuracy,\n",
        "    })\n",
        "    return None\n",
        "\n",
        "\n",
        "def testing(model, CNN_model, dataloader):\n",
        "    # put both models in evaluation mode\n",
        "    y_pred = []\n",
        "\n",
        "    # evaluate data for one epoch\n",
        "    for batch in dataloader:\n",
        "\n",
        "        b_input_ids = batch['input_ids'].cuda()\n",
        "        b_input_mask = batch['attention_mask'].cuda()\n",
        "        b_labels = batch['labels'].cuda().long()\n",
        "\n",
        "        # tell pytorch not to bother calculating gradients\n",
        "        with torch.no_grad():\n",
        "            # forward propagation (evaluate model on training batch)\n",
        "            outputs = model(input_ids=b_input_ids, attention_mask=b_input_mask)\n",
        "            hidden_layers = outputs['hidden_states']  # get hidden layers\n",
        "\n",
        "            hidden_layers = torch.stack(hidden_layers, dim=1)  # stack the layers\n",
        "\n",
        "#             hidden_layers = hidden_layers[:,:]\n",
        "            hidden_layers = hidden_layers[:, -4 :]\n",
        "\n",
        "        logits = CNN_model(hidden_layers)\n",
        "\n",
        "        # accumulate validation loss\n",
        "#         total_test_loss += loss.item()\n",
        "\n",
        "        # calculate preds\n",
        "        _, predicted = torch.max(logits, 1)\n",
        "\n",
        "        # move logits and labels to CPU\n",
        "        predicted = predicted.detach().cpu().numpy()\n",
        "        y_true = b_labels.detach().cpu().numpy().ravel()\n",
        "\n",
        "        for i in predicted:\n",
        "            y_pred.append(i)\n",
        "\n",
        "    return y_pred"
      ],
      "metadata": {
        "id": "DgZVca0cd6d1"
      },
      "execution_count": null,
      "outputs": []
    },
    {
      "cell_type": "code",
      "source": [
        "training_stats = []\n",
        "valid_stats = []\n",
        "best_valid_loss = float('inf')\n",
        "best_valid_acc = 0\n",
        "timeline = []\n",
        "\n",
        "# for each epoch\n",
        "print('Training...')\n",
        "print(\"epoch | train loss | val loss | accuracy\")\n",
        "for epoch in range(epochs):\n",
        "    time_start = time.time()\n",
        "    # train\n",
        "    train(model, train_dataloader, optimizer)\n",
        "    # validate\n",
        "    validating(model, valid_dataloader)\n",
        "    print(f\"{epoch+1:5d}/{epochs} | {training_stats[epoch]['Train Loss']:<10.5f} | {valid_stats[epoch]['Val Loss']:<8.5f} | {valid_stats[epoch]['Accuracy']:<5.3f}\")\n",
        "    if valid_stats[epoch]['Val Loss'] < best_valid_loss:\n",
        "        best_valid_loss = valid_stats[epoch]['Val Loss']\n",
        "        torch.save(CNN_model.state_dict(), 'data-comments/checkpoint_save/val-cnn-model.pt')  # torch save\n",
        "        torch.save(model.state_dict(), 'data-comments/checkpoint_save/val-bert-cnn-model.pt')\n",
        "        model.save_pretrained('data-comments/model_save/val-acc-bert-cnn/')\n",
        "    time_end = time.time()\n",
        "    timeline.append(time_end - time_start)"
      ],
      "metadata": {
        "colab": {
          "base_uri": "https://localhost:8080/"
        },
        "id": "rtZ088Ygee_t",
        "outputId": "5c717cd8-b344-4f86-ca1b-110ef253df69"
      },
      "execution_count": null,
      "outputs": [
        {
          "output_type": "stream",
          "name": "stdout",
          "text": [
            "Training...\n",
            "epoch | train loss | val loss | accuracy\n",
            "    1/5 | 1.73459    | 1.43753  | 0.495\n",
            "    2/5 | 1.28453    | 1.26274  | 0.568\n",
            "    3/5 | 0.93976    | 1.23085  | 0.579\n",
            "    4/5 | 0.65737    | 1.24169  | 0.592\n",
            "    5/5 | 0.48575    | 1.29056  | 0.579\n"
          ]
        }
      ]
    },
    {
      "cell_type": "code",
      "source": [
        "model.load_state_dict(torch.load('data-comments/checkpoint_save/val-bert-cnn-model.pt'))\n",
        "CNN_model.load_state_dict(torch.load('data-comments/checkpoint_save/val-cnn-model.pt'))\n",
        "y_pred = testing(model, CNN_model,test_dataloader)\n",
        "print(classification_report(test_dataset[:]['labels'].ravel(),y_pred,digits=3)) #3 # 0.558"
      ],
      "metadata": {
        "colab": {
          "base_uri": "https://localhost:8080/"
        },
        "id": "xD7-EY9iei-C",
        "outputId": "a7119288-a7fa-41b0-9c17-7d989c56977b"
      },
      "execution_count": null,
      "outputs": [
        {
          "output_type": "stream",
          "name": "stdout",
          "text": [
            "              precision    recall  f1-score   support\n",
            "\n",
            "           0      0.415     0.550     0.473        40\n",
            "           1      0.593     0.409     0.484       132\n",
            "           2      0.656     0.751     0.700       193\n",
            "           3      0.696     0.696     0.696        46\n",
            "           4      0.567     0.457     0.506       129\n",
            "           5      0.602     0.690     0.643       116\n",
            "           6      0.467     0.568     0.512        37\n",
            "\n",
            "    accuracy                          0.596       693\n",
            "   macro avg      0.571     0.589     0.574       693\n",
            "weighted avg      0.597     0.596     0.590       693\n",
            "\n"
          ]
        }
      ]
    },
    {
      "cell_type": "code",
      "source": [
        "from sklearn.metrics import confusion_matrix\n",
        "import matplotlib.pyplot as plt\n",
        "import seaborn as sns\n",
        "confuse = confusion_matrix(test_labels, y_pred)\n",
        "\n",
        "fig = plt.figure(figsize=(10, 7))\n",
        "id2label = {0: \"Anger\", 1: \"Disgust\", 2: \"Enjoyment\", 3: \"Fear\", 4: \"Other\", 5: \"Sadness\", 6: \"Surprise\"}\n",
        "\n",
        "\n",
        "\n",
        "ax = sns.heatmap( np.round(np.divide(confuse, np.sum(confuse, axis=1).reshape(-1, 1)) * 100, 1), fmt=\"\", annot=True, cmap='Blues')\n",
        "ax.set_title('fgh')\n",
        "ax.set_xlabel('Dự đoán ')\n",
        "ax.set_ylabel('Thực tê');\n",
        "\n",
        "ax.xaxis.set_ticklabels([\"Tức giận\",  \"Ghê tởm\", \"Thích thú\", \"Sợ hãi\", \"Khác\", \"Buồn bã\", \"Ngạc nhiên\"])\n",
        "ax.yaxis.set_ticklabels([\"Tức giận\",  \"Ghê tởm\", \"Thích thú\", \"Sợ hãi\", \"Khác\", \"Buồn bã\", \"Ngạc nhiên\"])\n",
        "\n",
        "plt.show()"
      ],
      "metadata": {
        "colab": {
          "base_uri": "https://localhost:8080/",
          "height": 551
        },
        "id": "Hq29C9_fHASi",
        "outputId": "4f663065-d27a-4429-d772-c3b5dac92c21"
      },
      "execution_count": null,
      "outputs": [
        {
          "output_type": "display_data",
          "data": {
            "text/plain": [
              "<Figure size 1000x700 with 2 Axes>"
            ],
            "image/png": "[encoded data removed]"
          },
          "metadata": {}
        }
      ]
    }
  ]
}