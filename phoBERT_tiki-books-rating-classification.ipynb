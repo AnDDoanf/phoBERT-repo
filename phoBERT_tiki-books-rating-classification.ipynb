{
  "nbformat": 4,
  "nbformat_minor": 0,
  "metadata": {
    "colab": {
      "provenance": [],
      "gpuType": "T4",
      "machine_shape": "hm",
      "mount_file_id": "1rskFPjA_bUx9mBbOH2kjLXvSDP9qAgdu",
      "authorship_tag": "ABX9TyPeCRHsF7EcbSX5IG7rZnW3",
      "include_colab_link": true
    },
    "kernelspec": {
      "name": "python3",
      "display_name": "Python 3"
    },
    "language_info": {
      "name": "python"
    },
    "accelerator": "GPU"
  },
  "cells": [
    {
      "cell_type": "markdown",
      "metadata": {
        "id": "view-in-github",
        "colab_type": "text"
      },
      "source": [
        "<a href=\"https://colab.research.google.com/github/AnDDoanf/phoBERT_projects/blob/master/phoBERT_tiki-books-rating-classification.ipynb\" target=\"_parent\"><img src=\"https://colab.research.google.com/assets/colab-badge.svg\" alt=\"Open In Colab\"/></a>"
      ]
    },
    {
      "cell_type": "code",
      "source": [
        "import os\n",
        "os.environ[\"KAGGLE_CONFIG_DIR\"] = \"/content/drive/MyDrive/Kaggle\""
      ],
      "metadata": {
        "id": "Omdg6VwuXXDl"
      },
      "execution_count": null,
      "outputs": []
    },
    {
      "cell_type": "code",
      "source": [
        "%cd /content/drive/MyDrive/Kaggle"
      ],
      "metadata": {
        "colab": {
          "base_uri": "https://localhost:8080/"
        },
        "id": "JMU68pJN2SPg",
        "outputId": "fb528e0c-6c23-46ff-cc5b-2507c4281b01"
      },
      "execution_count": null,
      "outputs": [
        {
          "output_type": "stream",
          "name": "stdout",
          "text": [
            "/content/drive/MyDrive/Kaggle\n"
          ]
        }
      ]
    },
    {
      "cell_type": "code",
      "execution_count": null,
      "metadata": {
        "id": "T89c4-ARV_qS"
      },
      "outputs": [],
      "source": [
        "# !kaggle datasets download -d biminhc/tiki-books-dataset"
      ]
    },
    {
      "cell_type": "code",
      "source": [
        "# !unzip tiki-books-dataset.zip -d tiki-books-dataset\n",
        "# !rm *.zip"
      ],
      "metadata": {
        "id": "Y-fibm9XYuDS"
      },
      "execution_count": null,
      "outputs": []
    },
    {
      "cell_type": "code",
      "source": [
        "!pip install tensorflow_addons\n",
        "!pip install transformer"
      ],
      "metadata": {
        "colab": {
          "base_uri": "https://localhost:8080/"
        },
        "id": "DEBqYtkZY6lS",
        "outputId": "8c53a54d-682a-4cbd-9dd7-005cc19caf9c"
      },
      "execution_count": null,
      "outputs": [
        {
          "output_type": "stream",
          "name": "stdout",
          "text": [
            "Collecting tensorflow_addons\n",
            "  Downloading tensorflow_addons-0.23.0-cp310-cp310-manylinux_2_17_x86_64.manylinux2014_x86_64.whl (611 kB)\n",
            "\u001b[?25l     \u001b[90m━━━━━━━━━━━━━━━━━━━━━━━━━━━━━━━━━━━━━━━━\u001b[0m \u001b[32m0.0/611.8 kB\u001b[0m \u001b[31m?\u001b[0m eta \u001b[36m-:--:--\u001b[0m\r\u001b[2K     \u001b[91m━━━━━━━━━━━━\u001b[0m\u001b[91m╸\u001b[0m\u001b[90m━━━━━━━━━━━━━━━━━━━━━━━━━━━\u001b[0m \u001b[32m194.6/611.8 kB\u001b[0m \u001b[31m5.6 MB/s\u001b[0m eta \u001b[36m0:00:01\u001b[0m\r\u001b[2K     \u001b[90m━━━━━━━━━━━━━━━━━━━━━━━━━━━━━━━━━━━━━━━━\u001b[0m \u001b[32m611.8/611.8 kB\u001b[0m \u001b[31m11.7 MB/s\u001b[0m eta \u001b[36m0:00:00\u001b[0m\n",
            "\u001b[?25hRequirement already satisfied: packaging in /usr/local/lib/python3.10/dist-packages (from tensorflow_addons) (23.2)\n",
            "Collecting typeguard<3.0.0,>=2.7 (from tensorflow_addons)\n",
            "  Downloading typeguard-2.13.3-py3-none-any.whl (17 kB)\n",
            "Installing collected packages: typeguard, tensorflow_addons\n",
            "Successfully installed tensorflow_addons-0.23.0 typeguard-2.13.3\n",
            "\u001b[31mERROR: Could not find a version that satisfies the requirement transformer (from versions: none)\u001b[0m\u001b[31m\n",
            "\u001b[0m\u001b[31mERROR: No matching distribution found for transformer\u001b[0m\u001b[31m\n",
            "\u001b[0m"
          ]
        }
      ]
    },
    {
      "cell_type": "code",
      "source": [
        "import numpy as np\n",
        "import pandas as pd\n",
        "import matplotlib.pyplot as plt\n",
        "import seaborn as sns\n",
        "import os\n",
        "import tensorflow as tf\n",
        "import tensorflow_addons as tfa"
      ],
      "metadata": {
        "colab": {
          "base_uri": "https://localhost:8080/"
        },
        "id": "oQHOKlczbMXj",
        "outputId": "71371aeb-c2d3-4175-8b0e-2639106691f1"
      },
      "execution_count": null,
      "outputs": [
        {
          "output_type": "stream",
          "name": "stderr",
          "text": [
            "/usr/local/lib/python3.10/dist-packages/tensorflow_addons/utils/tfa_eol_msg.py:23: UserWarning: \n",
            "\n",
            "TensorFlow Addons (TFA) has ended development and introduction of new features.\n",
            "TFA has entered a minimal maintenance and release mode until a planned end of life in May 2024.\n",
            "Please modify downstream libraries to take dependencies from other repositories in our TensorFlow community (e.g. Keras, Keras-CV, and Keras-NLP). \n",
            "\n",
            "For more information see: https://github.com/tensorflow/addons/issues/2807 \n",
            "\n",
            "  warnings.warn(\n"
          ]
        }
      ]
    },
    {
      "cell_type": "markdown",
      "source": [
        "## Data observation"
      ],
      "metadata": {
        "id": "fCYDcBiW1PTS"
      }
    },
    {
      "cell_type": "code",
      "source": [
        "df = pd.read_csv('tiki-books-dataset/comments.csv')\n",
        "df.head()"
      ],
      "metadata": {
        "id": "xfBm6WrvbPl7",
        "colab": {
          "base_uri": "https://localhost:8080/",
          "height": 380
        },
        "outputId": "a5c59bc8-a5f2-483d-a1c3-3bbf983b1f60"
      },
      "execution_count": null,
      "outputs": [
        {
          "output_type": "execute_result",
          "data": {
            "text/plain": [
              "   product_id  comment_id            title  thank_count  customer_id  rating  \\\n",
              "0    74021317    12559756  Cực kì hài lòng          313     22051463       5   \n",
              "1    74021317    16979365  Cực kì hài lòng            6     27791831       5   \n",
              "2    74021317    14069617  Cực kì hài lòng           25     17748750       5   \n",
              "3    74021317     8569824  Cực kì hài lòng           57       410797       5   \n",
              "4    74021317    18368714  Cực kì hài lòng            0     28545286       5   \n",
              "\n",
              "                                             content  \n",
              "0  Có những người bước đến, họ lấp đầy hạnh phúc ...  \n",
              "1  Thấy nhiều bạn chê tiki gói hàng quá, may sao ...  \n",
              "2  Bìa cực xinh, tiki giao hàng nhanh, sách không...  \n",
              "3  Sách lúc nhận hình thức rất ổn, không cong vên...  \n",
              "4  Một cuốn sách rất đáng đọc về tình yêu thương ...  "
            ],
            "text/html": [
              "\n",
              "  <div id=\"df-f33fd818-756e-4396-bf1d-9b9030c02a8d\" class=\"colab-df-container\">\n",
              "    <div>\n",
              "<style scoped>\n",
              "    .dataframe tbody tr th:only-of-type {\n",
              "        vertical-align: middle;\n",
              "    }\n",
              "\n",
              "    .dataframe tbody tr th {\n",
              "        vertical-align: top;\n",
              "    }\n",
              "\n",
              "    .dataframe thead th {\n",
              "        text-align: right;\n",
              "    }\n",
              "</style>\n",
              "<table border=\"1\" class=\"dataframe\">\n",
              "  <thead>\n",
              "    <tr style=\"text-align: right;\">\n",
              "      <th></th>\n",
              "      <th>product_id</th>\n",
              "      <th>comment_id</th>\n",
              "      <th>title</th>\n",
              "      <th>thank_count</th>\n",
              "      <th>customer_id</th>\n",
              "      <th>rating</th>\n",
              "      <th>content</th>\n",
              "    </tr>\n",
              "  </thead>\n",
              "  <tbody>\n",
              "    <tr>\n",
              "      <th>0</th>\n",
              "      <td>74021317</td>\n",
              "      <td>12559756</td>\n",
              "      <td>Cực kì hài lòng</td>\n",
              "      <td>313</td>\n",
              "      <td>22051463</td>\n",
              "      <td>5</td>\n",
              "      <td>Có những người bước đến, họ lấp đầy hạnh phúc ...</td>\n",
              "    </tr>\n",
              "    <tr>\n",
              "      <th>1</th>\n",
              "      <td>74021317</td>\n",
              "      <td>16979365</td>\n",
              "      <td>Cực kì hài lòng</td>\n",
              "      <td>6</td>\n",
              "      <td>27791831</td>\n",
              "      <td>5</td>\n",
              "      <td>Thấy nhiều bạn chê tiki gói hàng quá, may sao ...</td>\n",
              "    </tr>\n",
              "    <tr>\n",
              "      <th>2</th>\n",
              "      <td>74021317</td>\n",
              "      <td>14069617</td>\n",
              "      <td>Cực kì hài lòng</td>\n",
              "      <td>25</td>\n",
              "      <td>17748750</td>\n",
              "      <td>5</td>\n",
              "      <td>Bìa cực xinh, tiki giao hàng nhanh, sách không...</td>\n",
              "    </tr>\n",
              "    <tr>\n",
              "      <th>3</th>\n",
              "      <td>74021317</td>\n",
              "      <td>8569824</td>\n",
              "      <td>Cực kì hài lòng</td>\n",
              "      <td>57</td>\n",
              "      <td>410797</td>\n",
              "      <td>5</td>\n",
              "      <td>Sách lúc nhận hình thức rất ổn, không cong vên...</td>\n",
              "    </tr>\n",
              "    <tr>\n",
              "      <th>4</th>\n",
              "      <td>74021317</td>\n",
              "      <td>18368714</td>\n",
              "      <td>Cực kì hài lòng</td>\n",
              "      <td>0</td>\n",
              "      <td>28545286</td>\n",
              "      <td>5</td>\n",
              "      <td>Một cuốn sách rất đáng đọc về tình yêu thương ...</td>\n",
              "    </tr>\n",
              "  </tbody>\n",
              "</table>\n",
              "</div>\n",
              "    <div class=\"colab-df-buttons\">\n",
              "\n",
              "  <div class=\"colab-df-container\">\n",
              "    <button class=\"colab-df-convert\" onclick=\"convertToInteractive('df-f33fd818-756e-4396-bf1d-9b9030c02a8d')\"\n",
              "            title=\"Convert this dataframe to an interactive table.\"\n",
              "            style=\"display:none;\">\n",
              "\n",
              "  <svg xmlns=\"http://www.w3.org/2000/svg\" height=\"24px\" viewBox=\"0 -960 960 960\">\n",
              "    <path d=\"M120-120v-720h720v720H120Zm60-500h600v-160H180v160Zm220 220h160v-160H400v160Zm0 220h160v-160H400v160ZM180-400h160v-160H180v160Zm440 0h160v-160H620v160ZM180-180h160v-160H180v160Zm440 0h160v-160H620v160Z\"/>\n",
              "  </svg>\n",
              "    </button>\n",
              "\n",
              "  <style>\n",
              "    .colab-df-container {\n",
              "      display:flex;\n",
              "      gap: 12px;\n",
              "    }\n",
              "\n",
              "    .colab-df-convert {\n",
              "      background-color: #E8F0FE;\n",
              "      border: none;\n",
              "      border-radius: 50%;\n",
              "      cursor: pointer;\n",
              "      display: none;\n",
              "      fill: #1967D2;\n",
              "      height: 32px;\n",
              "      padding: 0 0 0 0;\n",
              "      width: 32px;\n",
              "    }\n",
              "\n",
              "    .colab-df-convert:hover {\n",
              "      background-color: #E2EBFA;\n",
              "      box-shadow: 0px 1px 2px rgba(60, 64, 67, 0.3), 0px 1px 3px 1px rgba(60, 64, 67, 0.15);\n",
              "      fill: #174EA6;\n",
              "    }\n",
              "\n",
              "    .colab-df-buttons div {\n",
              "      margin-bottom: 4px;\n",
              "    }\n",
              "\n",
              "    [theme=dark] .colab-df-convert {\n",
              "      background-color: #3B4455;\n",
              "      fill: #D2E3FC;\n",
              "    }\n",
              "\n",
              "    [theme=dark] .colab-df-convert:hover {\n",
              "      background-color: #434B5C;\n",
              "      box-shadow: 0px 1px 3px 1px rgba(0, 0, 0, 0.15);\n",
              "      filter: drop-shadow(0px 1px 2px rgba(0, 0, 0, 0.3));\n",
              "      fill: #FFFFFF;\n",
              "    }\n",
              "  </style>\n",
              "\n",
              "    <script>\n",
              "      const buttonEl =\n",
              "        document.querySelector('#df-f33fd818-756e-4396-bf1d-9b9030c02a8d button.colab-df-convert');\n",
              "      buttonEl.style.display =\n",
              "        google.colab.kernel.accessAllowed ? 'block' : 'none';\n",
              "\n",
              "      async function convertToInteractive(key) {\n",
              "        const element = document.querySelector('#df-f33fd818-756e-4396-bf1d-9b9030c02a8d');\n",
              "        const dataTable =\n",
              "          await google.colab.kernel.invokeFunction('convertToInteractive',\n",
              "                                                    [key], {});\n",
              "        if (!dataTable) return;\n",
              "\n",
              "        const docLinkHtml = 'Like what you see? Visit the ' +\n",
              "          '<a target=\"_blank\" href=https://colab.research.google.com/notebooks/data_table.ipynb>data table notebook</a>'\n",
              "          + ' to learn more about interactive tables.';\n",
              "        element.innerHTML = '';\n",
              "        dataTable['output_type'] = 'display_data';\n",
              "        await google.colab.output.renderOutput(dataTable, element);\n",
              "        const docLink = document.createElement('div');\n",
              "        docLink.innerHTML = docLinkHtml;\n",
              "        element.appendChild(docLink);\n",
              "      }\n",
              "    </script>\n",
              "  </div>\n",
              "\n",
              "\n",
              "<div id=\"df-6e52d821-8138-4da3-a307-b7de1c093646\">\n",
              "  <button class=\"colab-df-quickchart\" onclick=\"quickchart('df-6e52d821-8138-4da3-a307-b7de1c093646')\"\n",
              "            title=\"Suggest charts\"\n",
              "            style=\"display:none;\">\n",
              "\n",
              "<svg xmlns=\"http://www.w3.org/2000/svg\" height=\"24px\"viewBox=\"0 0 24 24\"\n",
              "     width=\"24px\">\n",
              "    <g>\n",
              "        <path d=\"M19 3H5c-1.1 0-2 .9-2 2v14c0 1.1.9 2 2 2h14c1.1 0 2-.9 2-2V5c0-1.1-.9-2-2-2zM9 17H7v-7h2v7zm4 0h-2V7h2v10zm4 0h-2v-4h2v4z\"/>\n",
              "    </g>\n",
              "</svg>\n",
              "  </button>\n",
              "\n",
              "<style>\n",
              "  .colab-df-quickchart {\n",
              "      --bg-color: #E8F0FE;\n",
              "      --fill-color: #1967D2;\n",
              "      --hover-bg-color: #E2EBFA;\n",
              "      --hover-fill-color: #174EA6;\n",
              "      --disabled-fill-color: #AAA;\n",
              "      --disabled-bg-color: #DDD;\n",
              "  }\n",
              "\n",
              "  [theme=dark] .colab-df-quickchart {\n",
              "      --bg-color: #3B4455;\n",
              "      --fill-color: #D2E3FC;\n",
              "      --hover-bg-color: #434B5C;\n",
              "      --hover-fill-color: #FFFFFF;\n",
              "      --disabled-bg-color: #3B4455;\n",
              "      --disabled-fill-color: #666;\n",
              "  }\n",
              "\n",
              "  .colab-df-quickchart {\n",
              "    background-color: var(--bg-color);\n",
              "    border: none;\n",
              "    border-radius: 50%;\n",
              "    cursor: pointer;\n",
              "    display: none;\n",
              "    fill: var(--fill-color);\n",
              "    height: 32px;\n",
              "    padding: 0;\n",
              "    width: 32px;\n",
              "  }\n",
              "\n",
              "  .colab-df-quickchart:hover {\n",
              "    background-color: var(--hover-bg-color);\n",
              "    box-shadow: 0 1px 2px rgba(60, 64, 67, 0.3), 0 1px 3px 1px rgba(60, 64, 67, 0.15);\n",
              "    fill: var(--button-hover-fill-color);\n",
              "  }\n",
              "\n",
              "  .colab-df-quickchart-complete:disabled,\n",
              "  .colab-df-quickchart-complete:disabled:hover {\n",
              "    background-color: var(--disabled-bg-color);\n",
              "    fill: var(--disabled-fill-color);\n",
              "    box-shadow: none;\n",
              "  }\n",
              "\n",
              "  .colab-df-spinner {\n",
              "    border: 2px solid var(--fill-color);\n",
              "    border-color: transparent;\n",
              "    border-bottom-color: var(--fill-color);\n",
              "    animation:\n",
              "      spin 1s steps(1) infinite;\n",
              "  }\n",
              "\n",
              "  @keyframes spin {\n",
              "    0% {\n",
              "      border-color: transparent;\n",
              "      border-bottom-color: var(--fill-color);\n",
              "      border-left-color: var(--fill-color);\n",
              "    }\n",
              "    20% {\n",
              "      border-color: transparent;\n",
              "      border-left-color: var(--fill-color);\n",
              "      border-top-color: var(--fill-color);\n",
              "    }\n",
              "    30% {\n",
              "      border-color: transparent;\n",
              "      border-left-color: var(--fill-color);\n",
              "      border-top-color: var(--fill-color);\n",
              "      border-right-color: var(--fill-color);\n",
              "    }\n",
              "    40% {\n",
              "      border-color: transparent;\n",
              "      border-right-color: var(--fill-color);\n",
              "      border-top-color: var(--fill-color);\n",
              "    }\n",
              "    60% {\n",
              "      border-color: transparent;\n",
              "      border-right-color: var(--fill-color);\n",
              "    }\n",
              "    80% {\n",
              "      border-color: transparent;\n",
              "      border-right-color: var(--fill-color);\n",
              "      border-bottom-color: var(--fill-color);\n",
              "    }\n",
              "    90% {\n",
              "      border-color: transparent;\n",
              "      border-bottom-color: var(--fill-color);\n",
              "    }\n",
              "  }\n",
              "</style>\n",
              "\n",
              "  <script>\n",
              "    async function quickchart(key) {\n",
              "      const quickchartButtonEl =\n",
              "        document.querySelector('#' + key + ' button');\n",
              "      quickchartButtonEl.disabled = true;  // To prevent multiple clicks.\n",
              "      quickchartButtonEl.classList.add('colab-df-spinner');\n",
              "      try {\n",
              "        const charts = await google.colab.kernel.invokeFunction(\n",
              "            'suggestCharts', [key], {});\n",
              "      } catch (error) {\n",
              "        console.error('Error during call to suggestCharts:', error);\n",
              "      }\n",
              "      quickchartButtonEl.classList.remove('colab-df-spinner');\n",
              "      quickchartButtonEl.classList.add('colab-df-quickchart-complete');\n",
              "    }\n",
              "    (() => {\n",
              "      let quickchartButtonEl =\n",
              "        document.querySelector('#df-6e52d821-8138-4da3-a307-b7de1c093646 button');\n",
              "      quickchartButtonEl.style.display =\n",
              "        google.colab.kernel.accessAllowed ? 'block' : 'none';\n",
              "    })();\n",
              "  </script>\n",
              "</div>\n",
              "\n",
              "    </div>\n",
              "  </div>\n"
            ]
          },
          "metadata": {},
          "execution_count": 10
        }
      ]
    },
    {
      "cell_type": "markdown",
      "source": [
        "## Training with phoBERT"
      ],
      "metadata": {
        "id": "CPmfhci71CIr"
      }
    },
    {
      "cell_type": "markdown",
      "source": [
        "### Data Pre-processing"
      ],
      "metadata": {
        "id": "_unRuKOd1WHE"
      }
    },
    {
      "cell_type": "code",
      "source": [
        "df = df[['rating', 'content']]\n",
        "df = df.sample(n=1000)\n",
        "df = df.dropna()\n",
        "\n",
        "X = df.content.copy()\n",
        "y = df.rating.copy()\n",
        "\n",
        "y = tf.keras.utils.to_categorical(y)"
      ],
      "metadata": {
        "id": "XrFOcJeQ1UvC"
      },
      "execution_count": null,
      "outputs": []
    },
    {
      "cell_type": "markdown",
      "source": [
        "\n",
        "### Training the model"
      ],
      "metadata": {
        "id": "M0cF3GvU1nBW"
      }
    },
    {
      "cell_type": "code",
      "source": [
        "# Define training strategy\n",
        "gpus = tf.config.experimental.list_logical_devices(\"GPU\")\n",
        "if len(gpus) == 1:\n",
        "    strategy = tf.distribute.get_strategy()\n",
        "else:\n",
        "    strategy = tf.distribute.get_strategy()\n",
        "\n",
        "from sklearn.model_selection import train_test_split\n",
        "from transformers import TFAutoModel, AutoTokenizer\n",
        "from tensorflow.keras import Input, Model\n",
        "from tensorflow.keras import layers\n",
        "from tensorflow.keras.layers import Dense, Dropout, Conv1D, MaxPooling1D, Bidirectional, LSTM, Flatten\n",
        "from tensorflow.keras.optimizers import Adam\n",
        "from tensorflow.keras import regularizers\n",
        "\n",
        "MAX_LEN = 200\n",
        "model_name = 'vinai/phobert-base'\n",
        "\n",
        "# Tokenizing\n",
        "tokenizer = AutoTokenizer.from_pretrained(model_name)\n",
        "inputs = [tokenizer(item,\n",
        "                    max_length = MAX_LEN,\n",
        "                    padding = 'max_length',\n",
        "                    truncation = True,\n",
        "                    return_tensors = 'np')['input_ids'].reshape(MAX_LEN)\n",
        "          for _, item in X.items()]\n",
        "\n",
        "X_train, X_test, y_train, y_test = train_test_split(np.asarray(inputs),\n",
        "                                                    y,\n",
        "                                                    random_state=1905,\n",
        "                                                    test_size=0.2,\n",
        "                                                    shuffle=True)\n",
        "\n",
        "# Build model\n",
        "with strategy.scope():\n",
        "    encoder = TFAutoModel.from_pretrained(model_name)\n",
        "\n",
        "    input_ids = Input(shape=(MAX_LEN,), dtype=tf.int32)\n",
        "\n",
        "    embedding = encoder(input_ids)[1]\n",
        "\n",
        "    x = Dense(128, activation = 'relu', kernel_regularizer = regularizers.L2(0.1))(embedding)\n",
        "    x = Dropout(0.2)(x)\n",
        "\n",
        "    x = Dense(y.shape[1],\n",
        "              activation = 'softmax',\n",
        "              kernel_initializer=tf.initializers.GlorotUniform(seed=1905),\n",
        "              name='output_layer')(x)\n",
        "\n",
        "    model = Model(inputs=[input_ids], outputs = x)\n",
        "\n",
        "step = tf.Variable(0, trainable=False)\n",
        "schedule = tf.optimizers.schedules.PiecewiseConstantDecay(\n",
        "    [500, 800], [1e0, 1e-1, 1e-3])\n",
        "\n",
        "lr = 1e-2 * schedule(step)\n",
        "wd = lambda: 1e-5 * schedule(step)\n",
        "\n",
        "model.compile(\n",
        "    optimizer=tfa.optimizers.AdamW(weight_decay=wd,\n",
        "                                   learning_rate=lr),\n",
        "    loss=tf.keras.losses.CategoricalCrossentropy(),\n",
        "    metrics=['accuracy'])\n",
        "\n",
        "# Train the model\n",
        "history = model.fit(X_train,\n",
        "                    y_train,\n",
        "                    epochs = 20,\n",
        "                    verbose = 1,\n",
        "                    validation_split = 0.1,\n",
        "                    batch_size = 32)"
      ],
      "metadata": {
        "id": "DWMua-2nd7aA",
        "colab": {
          "base_uri": "https://localhost:8080/"
        },
        "outputId": "3088399a-3696-4b45-bc48-fae32eb01c1a"
      },
      "execution_count": null,
      "outputs": [
        {
          "output_type": "stream",
          "name": "stderr",
          "text": [
            "Some layers from the model checkpoint at vinai/phobert-base were not used when initializing TFRobertaModel: ['lm_head']\n",
            "- This IS expected if you are initializing TFRobertaModel from the checkpoint of a model trained on another task or with another architecture (e.g. initializing a BertForSequenceClassification model from a BertForPreTraining model).\n",
            "- This IS NOT expected if you are initializing TFRobertaModel from the checkpoint of a model that you expect to be exactly identical (initializing a BertForSequenceClassification model from a BertForSequenceClassification model).\n",
            "All the layers of TFRobertaModel were initialized from the model checkpoint at vinai/phobert-base.\n",
            "If your task is similar to the task the model of the checkpoint was trained on, you can already use TFRobertaModel for predictions without further training.\n"
          ]
        },
        {
          "output_type": "stream",
          "name": "stdout",
          "text": [
            "Epoch 1/20\n",
            "17/17 [==============================] - 41s 1s/step - loss: 12.2505 - accuracy: 0.5326 - val_loss: 6.8671 - val_accuracy: 0.7500\n",
            "Epoch 2/20\n",
            "17/17 [==============================] - 22s 1s/step - loss: 4.2918 - accuracy: 0.7281 - val_loss: 2.4134 - val_accuracy: 0.7500\n",
            "Epoch 3/20\n",
            "17/17 [==============================] - 22s 1s/step - loss: 1.8878 - accuracy: 0.7356 - val_loss: 1.5562 - val_accuracy: 0.7500\n",
            "Epoch 4/20\n",
            "17/17 [==============================] - 22s 1s/step - loss: 1.6242 - accuracy: 0.6778 - val_loss: 2.1779 - val_accuracy: 0.7500\n",
            "Epoch 5/20\n",
            "17/17 [==============================] - 22s 1s/step - loss: 1.5943 - accuracy: 0.7467 - val_loss: 1.4448 - val_accuracy: 0.7500\n",
            "Epoch 6/20\n",
            "17/17 [==============================] - 22s 1s/step - loss: 1.3326 - accuracy: 0.7616 - val_loss: 1.2787 - val_accuracy: 0.7500\n",
            "Epoch 7/20\n",
            "17/17 [==============================] - 22s 1s/step - loss: 1.4106 - accuracy: 0.6872 - val_loss: 1.3633 - val_accuracy: 0.7500\n",
            "Epoch 8/20\n",
            "17/17 [==============================] - 22s 1s/step - loss: 1.4351 - accuracy: 0.7635 - val_loss: 1.2054 - val_accuracy: 0.7500\n",
            "Epoch 9/20\n",
            "17/17 [==============================] - 22s 1s/step - loss: 1.1236 - accuracy: 0.7616 - val_loss: 1.0085 - val_accuracy: 0.7500\n",
            "Epoch 10/20\n",
            "17/17 [==============================] - 22s 1s/step - loss: 1.1321 - accuracy: 0.7635 - val_loss: 1.0315 - val_accuracy: 0.7500\n",
            "Epoch 11/20\n",
            "17/17 [==============================] - 22s 1s/step - loss: 1.1378 - accuracy: 0.7561 - val_loss: 1.0909 - val_accuracy: 0.7500\n",
            "Epoch 12/20\n",
            "17/17 [==============================] - 22s 1s/step - loss: 1.2370 - accuracy: 0.7579 - val_loss: 1.1618 - val_accuracy: 0.7500\n",
            "Epoch 13/20\n",
            "17/17 [==============================] - 22s 1s/step - loss: 1.1931 - accuracy: 0.7598 - val_loss: 1.0080 - val_accuracy: 0.7500\n",
            "Epoch 14/20\n",
            "17/17 [==============================] - 22s 1s/step - loss: 1.0831 - accuracy: 0.7635 - val_loss: 1.0995 - val_accuracy: 0.7500\n",
            "Epoch 15/20\n",
            "17/17 [==============================] - 22s 1s/step - loss: 1.0790 - accuracy: 0.7616 - val_loss: 1.1020 - val_accuracy: 0.7500\n",
            "Epoch 16/20\n",
            "17/17 [==============================] - 22s 1s/step - loss: 1.0289 - accuracy: 0.7635 - val_loss: 1.0612 - val_accuracy: 0.7500\n",
            "Epoch 17/20\n",
            "17/17 [==============================] - 22s 1s/step - loss: 1.0677 - accuracy: 0.7561 - val_loss: 1.1331 - val_accuracy: 0.7500\n",
            "Epoch 18/20\n",
            "17/17 [==============================] - 22s 1s/step - loss: 1.1566 - accuracy: 0.7635 - val_loss: 1.0969 - val_accuracy: 0.7500\n",
            "Epoch 19/20\n",
            "17/17 [==============================] - 22s 1s/step - loss: 1.0271 - accuracy: 0.7635 - val_loss: 0.9796 - val_accuracy: 0.7500\n",
            "Epoch 20/20\n",
            "17/17 [==============================] - 22s 1s/step - loss: 1.0001 - accuracy: 0.7635 - val_loss: 1.0567 - val_accuracy: 0.7500\n"
          ]
        }
      ]
    },
    {
      "cell_type": "markdown",
      "source": [
        "### Evaluating the fine-tuned model"
      ],
      "metadata": {
        "id": "RIDQF3_J1GCz"
      }
    },
    {
      "cell_type": "code",
      "source": [
        "loss = history.history['loss']\n",
        "acc = history.history['accuracy']\n",
        "val_loss = history.history['val_loss']\n",
        "val_acc = history.history['val_accuracy']\n",
        "\n",
        "epochs = range(1, len(loss) + 1)\n",
        "\n",
        "plt.figure(figsize=(16, 5))\n",
        "# Accuracy\n",
        "plt.subplot(1,2,1)\n",
        "plt.plot(epochs, acc, 'b', label = 'Training accuracy')\n",
        "plt.plot(epochs, val_acc, 'r', label = 'Validation accuracy')\n",
        "plt.legend()\n",
        "\n",
        "# Evaluate the model on the test data using `evaluate`\n",
        "print(\"Evaluate on test data\")\n",
        "results = model.evaluate(X_test, y_test, batch_size=256)\n",
        "print(\"test loss, test acc:\", results)\n",
        "\n",
        "# Loss\n",
        "plt.subplot(1,2,2)\n",
        "plt.plot(epochs, loss, 'b', label = 'Trainig loss')\n",
        "plt.plot(epochs, val_loss, 'r', label = 'Validation loss')\n",
        "plt.legend()\n",
        "\n",
        "plt.show()"
      ],
      "metadata": {
        "id": "pFbWe95feETx",
        "colab": {
          "base_uri": "https://localhost:8080/",
          "height": 300
        },
        "outputId": "95964e4a-85fa-4714-870f-9b1590f9d36f"
      },
      "execution_count": null,
      "outputs": [
        {
          "output_type": "stream",
          "name": "stdout",
          "text": [
            "Evaluate on test data\n",
            "1/1 [==============================] - 2s 2s/step - loss: 1.0300 - accuracy: 0.7600\n",
            "test loss, test acc: [1.0299830436706543, 0.7599999904632568]\n"
          ]
        },
        {
          "output_type": "display_data",
          "data": {
            "text/plain": [
              "<Figure size 1600x500 with 2 Axes>"
            ],
            "image/png": "[encoded data removed]"
          },
          "metadata": {}
        }
      ]
    },
    {
      "cell_type": "code",
      "source": [
        "# import pickle\n",
        "# with open('phoBERT-tiki-books-ratings.pkl','wb') as f:\n",
        "#     pickle.dump(model,f)"
      ],
      "metadata": {
        "id": "5Xyp0_hE3aFA",
        "colab": {
          "base_uri": "https://localhost:8080/"
        },
        "outputId": "26de6964-2d61-4f55-a2bf-b544b3ed9ee8"
      },
      "execution_count": null,
      "outputs": [
        {
          "output_type": "stream",
          "name": "stderr",
          "text": [
            "/usr/local/lib/python3.10/dist-packages/transformers/generation/tf_utils.py:465: UserWarning: `seed_generator` is deprecated and will be removed in a future version.\n",
            "  warnings.warn(\"`seed_generator` is deprecated and will be removed in a future version.\", UserWarning)\n"
          ]
        }
      ]
    }
  ]
}